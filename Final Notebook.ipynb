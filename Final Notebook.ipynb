{
 "cells": [
  {
   "cell_type": "markdown",
   "metadata": {},
   "source": [
    "# INTRODUCTION\n",
    "For our project, we wanted to find the best neighborhood to raise a family in. For this, we wanted a safe neighborhood, that had a high average income, as well as good cell coverage, so you can always reach your children.\n",
    "For these metrics, we used the police incident blotter dataset, the cell towers dataset, and the income dataset, as well as a population per neighborhood dataset."
   ]
  },
  {
   "cell_type": "markdown",
   "metadata": {},
   "source": [
    "#### Mason Huntington - Police Incidents Per Capita\n",
    "To be a good neighborhood to raise a family in, the neighborhood must be safe. Because of this, I chose to use the police incidents blotter dataset, along with a population per neighborhood dataset."
   ]
  },
  {
   "cell_type": "code",
   "execution_count": 1,
   "metadata": {},
   "outputs": [],
   "source": [
    "import pandas as pd\n",
    "import geopandas\n",
    "import numpy as np\n",
    "%matplotlib inline\n",
    "import matplotlib.pyplot as plt"
   ]
  },
  {
   "cell_type": "markdown",
   "metadata": {},
   "source": [
    "#### First, I loaded both datasets, and sorted them by descending values."
   ]
  },
  {
   "cell_type": "code",
   "execution_count": 2,
   "metadata": {},
   "outputs": [
    {
     "data": {
      "text/plain": [
       "Neighborhood\n",
       "Shadyside              15317\n",
       "Squirrel Hill South    15317\n",
       "Brookline              13063\n",
       "Squirrel Hill North    11879\n",
       "North Oakland          10691\n",
       "                       ...  \n",
       "North Shore              301\n",
       "West End                 205\n",
       "St. Clair                183\n",
       "South Shore               29\n",
       "Chateau                   19\n",
       "Name: 2020_Total_Population, Length: 89, dtype: int64"
      ]
     },
     "execution_count": 2,
     "metadata": {},
     "output_type": "execute_result"
    }
   ],
   "source": [
    "population = pd.read_csv(\"neighborhood_populations.csv\")\n",
    "population_by_hood = population.groupby(\"Neighborhood\").sum()['2020_Total_Population']\n",
    "population_by_hood.sort_values(ascending=False)"
   ]
  },
  {
   "cell_type": "code",
   "execution_count": 3,
   "metadata": {},
   "outputs": [
    {
     "data": {
      "text/plain": [
       "South Side Flats             15858\n",
       "Central Business District    14559\n",
       "Carrick                       9725\n",
       "Bloomfield                    7393\n",
       "Shadyside                     7116\n",
       "                             ...  \n",
       "Outside State                  262\n",
       "Troy Hill-Herrs Island         252\n",
       "Outside County                 189\n",
       "Mt. Oliver Neighborhood        117\n",
       "Mt. Oliver Boro                 86\n",
       "Name: INCIDENTNEIGHBORHOOD, Length: 98, dtype: int64"
      ]
     },
     "execution_count": 3,
     "metadata": {},
     "output_type": "execute_result"
    }
   ],
   "source": [
    "incidents = pd.read_csv(\"police_incidents.csv\")\n",
    "num_incidents = incidents['INCIDENTNEIGHBORHOOD'].value_counts()\n",
    "num_incidents.sort_values(ascending=False)"
   ]
  },
  {
   "cell_type": "markdown",
   "metadata": {},
   "source": [
    "#### I then loaded both of these datasets into a new dataframe, with the index being the neighborhood name, and both columns being the number of incidents and the population, respectively."
   ]
  },
  {
   "cell_type": "code",
   "execution_count": 4,
   "metadata": {},
   "outputs": [
    {
     "data": {
      "text/html": [
       "<div>\n",
       "<style scoped>\n",
       "    .dataframe tbody tr th:only-of-type {\n",
       "        vertical-align: middle;\n",
       "    }\n",
       "\n",
       "    .dataframe tbody tr th {\n",
       "        vertical-align: top;\n",
       "    }\n",
       "\n",
       "    .dataframe thead th {\n",
       "        text-align: right;\n",
       "    }\n",
       "</style>\n",
       "<table border=\"1\" class=\"dataframe\">\n",
       "  <thead>\n",
       "    <tr style=\"text-align: right;\">\n",
       "      <th></th>\n",
       "      <th>Incidents</th>\n",
       "      <th>Population</th>\n",
       "    </tr>\n",
       "  </thead>\n",
       "  <tbody>\n",
       "    <tr>\n",
       "      <th>Allegheny Center</th>\n",
       "      <td>2978.0</td>\n",
       "      <td>1419.0</td>\n",
       "    </tr>\n",
       "    <tr>\n",
       "      <th>Allegheny West</th>\n",
       "      <td>944.0</td>\n",
       "      <td>540.0</td>\n",
       "    </tr>\n",
       "    <tr>\n",
       "      <th>Allentown</th>\n",
       "      <td>4415.0</td>\n",
       "      <td>2305.0</td>\n",
       "    </tr>\n",
       "    <tr>\n",
       "      <th>Arlington</th>\n",
       "      <td>1759.0</td>\n",
       "      <td>NaN</td>\n",
       "    </tr>\n",
       "    <tr>\n",
       "      <th>Arlington - Arlington Heights (Combined)</th>\n",
       "      <td>NaN</td>\n",
       "      <td>2040.0</td>\n",
       "    </tr>\n",
       "  </tbody>\n",
       "</table>\n",
       "</div>"
      ],
      "text/plain": [
       "                                          Incidents  Population\n",
       "Allegheny Center                             2978.0      1419.0\n",
       "Allegheny West                                944.0       540.0\n",
       "Allentown                                    4415.0      2305.0\n",
       "Arlington                                    1759.0         NaN\n",
       "Arlington - Arlington Heights (Combined)        NaN      2040.0"
      ]
     },
     "execution_count": 4,
     "metadata": {},
     "output_type": "execute_result"
    }
   ],
   "source": [
    "ipc_frame = {'Incidents': num_incidents, 'Population': population_by_hood}\n",
    "incidents_per_capita = pd.DataFrame(ipc_frame)\n",
    "incidents_per_capita.head()"
   ]
  },
  {
   "cell_type": "markdown",
   "metadata": {},
   "source": [
    "#### In order to get the police incidents per capita, I then added another column being the incidents divided by the population of each neighborhood. This dataset had a few outliers, as well as a few non-number values, so I cleaned the dataset, removing any non-number values, and any incidents per capita value greater than 5."
   ]
  },
  {
   "cell_type": "code",
   "execution_count": 5,
   "metadata": {},
   "outputs": [
    {
     "data": {
      "text/html": [
       "<div>\n",
       "<style scoped>\n",
       "    .dataframe tbody tr th:only-of-type {\n",
       "        vertical-align: middle;\n",
       "    }\n",
       "\n",
       "    .dataframe tbody tr th {\n",
       "        vertical-align: top;\n",
       "    }\n",
       "\n",
       "    .dataframe thead th {\n",
       "        text-align: right;\n",
       "    }\n",
       "</style>\n",
       "<table border=\"1\" class=\"dataframe\">\n",
       "  <thead>\n",
       "    <tr style=\"text-align: right;\">\n",
       "      <th></th>\n",
       "      <th>Incidents</th>\n",
       "      <th>Population</th>\n",
       "      <th>Incidents Per Capita</th>\n",
       "    </tr>\n",
       "  </thead>\n",
       "  <tbody>\n",
       "    <tr>\n",
       "      <th>West End</th>\n",
       "      <td>1009.0</td>\n",
       "      <td>205.0</td>\n",
       "      <td>4.921951</td>\n",
       "    </tr>\n",
       "    <tr>\n",
       "      <th>Homewood West</th>\n",
       "      <td>2383.0</td>\n",
       "      <td>642.0</td>\n",
       "      <td>3.711838</td>\n",
       "    </tr>\n",
       "    <tr>\n",
       "      <th>St. Clair</th>\n",
       "      <td>610.0</td>\n",
       "      <td>183.0</td>\n",
       "      <td>3.333333</td>\n",
       "    </tr>\n",
       "    <tr>\n",
       "      <th>Homewood South</th>\n",
       "      <td>6088.0</td>\n",
       "      <td>2260.0</td>\n",
       "      <td>2.693805</td>\n",
       "    </tr>\n",
       "    <tr>\n",
       "      <th>East Allegheny</th>\n",
       "      <td>4872.0</td>\n",
       "      <td>1903.0</td>\n",
       "      <td>2.560168</td>\n",
       "    </tr>\n",
       "    <tr>\n",
       "      <th>...</th>\n",
       "      <td>...</td>\n",
       "      <td>...</td>\n",
       "      <td>...</td>\n",
       "    </tr>\n",
       "    <tr>\n",
       "      <th>Stanton Heights</th>\n",
       "      <td>1552.0</td>\n",
       "      <td>4427.0</td>\n",
       "      <td>0.350576</td>\n",
       "    </tr>\n",
       "    <tr>\n",
       "      <th>New Homestead</th>\n",
       "      <td>290.0</td>\n",
       "      <td>917.0</td>\n",
       "      <td>0.316249</td>\n",
       "    </tr>\n",
       "    <tr>\n",
       "      <th>Squirrel Hill North</th>\n",
       "      <td>3400.0</td>\n",
       "      <td>11879.0</td>\n",
       "      <td>0.286219</td>\n",
       "    </tr>\n",
       "    <tr>\n",
       "      <th>Swisshelm Park</th>\n",
       "      <td>369.0</td>\n",
       "      <td>1339.0</td>\n",
       "      <td>0.275579</td>\n",
       "    </tr>\n",
       "    <tr>\n",
       "      <th>Central Northside</th>\n",
       "      <td>786.0</td>\n",
       "      <td>2972.0</td>\n",
       "      <td>0.264468</td>\n",
       "    </tr>\n",
       "  </tbody>\n",
       "</table>\n",
       "<p>82 rows × 3 columns</p>\n",
       "</div>"
      ],
      "text/plain": [
       "                     Incidents  Population  Incidents Per Capita\n",
       "West End                1009.0       205.0              4.921951\n",
       "Homewood West           2383.0       642.0              3.711838\n",
       "St. Clair                610.0       183.0              3.333333\n",
       "Homewood South          6088.0      2260.0              2.693805\n",
       "East Allegheny          4872.0      1903.0              2.560168\n",
       "...                        ...         ...                   ...\n",
       "Stanton Heights         1552.0      4427.0              0.350576\n",
       "New Homestead            290.0       917.0              0.316249\n",
       "Squirrel Hill North     3400.0     11879.0              0.286219\n",
       "Swisshelm Park           369.0      1339.0              0.275579\n",
       "Central Northside        786.0      2972.0              0.264468\n",
       "\n",
       "[82 rows x 3 columns]"
      ]
     },
     "execution_count": 5,
     "metadata": {},
     "output_type": "execute_result"
    }
   ],
   "source": [
    "incidents_per_capita[\"Incidents Per Capita\"] = incidents_per_capita[\"Incidents\"]/incidents_per_capita[\"Population\"]\n",
    "incidents_per_capita.drop(incidents_per_capita[incidents_per_capita['Incidents Per Capita'] > 5].index, inplace = True)\n",
    "incidents_per_capita = incidents_per_capita[incidents_per_capita['Incidents Per Capita'].notna()]\n",
    "incidents_per_capita.sort_values('Incidents Per Capita', ascending=False)"
   ]
  },
  {
   "cell_type": "markdown",
   "metadata": {},
   "source": [
    "#### Finally, I was able to plot this data to a bar graph.\n",
    "#### This showed that the top three safest neighborhoods (having the least incidents per capita) were Central Northside, Swisshelm Park, and Squirrel Hill North."
   ]
  },
  {
   "cell_type": "code",
   "execution_count": 6,
   "metadata": {},
   "outputs": [
    {
     "data": {
      "text/plain": [
       "<matplotlib.axes._subplots.AxesSubplot at 0x7f36d74a87c0>"
      ]
     },
     "execution_count": 6,
     "metadata": {},
     "output_type": "execute_result"
    },
    {
     "data": {
      "image/png": "[encoded data removed]",
      "text/plain": [
       "<Figure size 1800x720 with 1 Axes>"
      ]
     },
     "metadata": {
      "needs_background": "light"
     },
     "output_type": "display_data"
    }
   ],
   "source": [
    "incidents_per_capita.sort_values('Incidents Per Capita', ascending=False)['Incidents Per Capita'].plot.bar(title='Incidents Per Capita', figsize=(25,10))"
   ]
  },
  {
   "cell_type": "markdown",
   "metadata": {},
   "source": [
    "#### Nick -- Cell Towers\n",
    "\n",
    "Cellular connections have become more and more important to family life. As parents get busy and their children grow older, they are doing more and more work remotely and taking more and more calls while driving kids to school or other activities.\n",
    "\n",
    "Another important function of cellular towers is to allow parents to ensure their kids can always contact them. The average age kids get their first phone has been steadily decreasing. An increasing number of venues and activities require the use of an internet-connected phone. It's also an important safety feature, both in terms of kids being able to contact authorities and contact one's parents when they begin to spend time alone or at friends' houses.\n",
    "\n",
    "Together, this means the density of cell phone towers is an important metric for the suitability of a family to be raised in a neighborhood."
   ]
  },
  {
   "cell_type": "code",
   "execution_count": 7,
   "metadata": {},
   "outputs": [
    {
     "data": {
      "text/plain": [
       "934    14\n",
       "925    10\n",
       "880    10\n",
       "940     8\n",
       "939     6\n",
       "Name: MUNICODE, dtype: int64"
      ]
     },
     "execution_count": 7,
     "metadata": {},
     "output_type": "execute_result"
    }
   ],
   "source": [
    "import pandas as pd\n",
    "\n",
    "towers = pd.read_csv(\"cell_towers.csv\")\n",
    "towers = towers[\"MUNICODE\"].value_counts()\n",
    "towers.head()"
   ]
  },
  {
   "cell_type": "markdown",
   "metadata": {},
   "source": [
    "The cell towers data set does not provide what neighborhood a cell tower is in. Instead, it provides a municipality code, which can be used to determine the neighborhood via the municipality dataset."
   ]
  },
  {
   "cell_type": "code",
   "execution_count": 8,
   "metadata": {},
   "outputs": [
    {
     "data": {
      "text/html": [
       "<div>\n",
       "<style scoped>\n",
       "    .dataframe tbody tr th:only-of-type {\n",
       "        vertical-align: middle;\n",
       "    }\n",
       "\n",
       "    .dataframe tbody tr th {\n",
       "        vertical-align: top;\n",
       "    }\n",
       "\n",
       "    .dataframe thead th {\n",
       "        text-align: right;\n",
       "    }\n",
       "</style>\n",
       "<table border=\"1\" class=\"dataframe\">\n",
       "  <thead>\n",
       "    <tr style=\"text-align: right;\">\n",
       "      <th></th>\n",
       "      <th>NAME</th>\n",
       "      <th>MUNICODE</th>\n",
       "      <th>ACRES</th>\n",
       "    </tr>\n",
       "  </thead>\n",
       "  <tbody>\n",
       "    <tr>\n",
       "      <th>0</th>\n",
       "      <td>CHESWICK</td>\n",
       "      <td>815</td>\n",
       "      <td>350.191284</td>\n",
       "    </tr>\n",
       "    <tr>\n",
       "      <th>1</th>\n",
       "      <td>EDGEWORTH</td>\n",
       "      <td>824</td>\n",
       "      <td>1030.743774</td>\n",
       "    </tr>\n",
       "    <tr>\n",
       "      <th>2</th>\n",
       "      <td>SEWICKLEY</td>\n",
       "      <td>851</td>\n",
       "      <td>718.309570</td>\n",
       "    </tr>\n",
       "    <tr>\n",
       "      <th>3</th>\n",
       "      <td>SEWICKLEY HEIGHTS</td>\n",
       "      <td>869</td>\n",
       "      <td>4738.989746</td>\n",
       "    </tr>\n",
       "    <tr>\n",
       "      <th>4</th>\n",
       "      <td>HARMAR</td>\n",
       "      <td>915</td>\n",
       "      <td>4060.858643</td>\n",
       "    </tr>\n",
       "  </tbody>\n",
       "</table>\n",
       "</div>"
      ],
      "text/plain": [
       "                NAME  MUNICODE        ACRES\n",
       "0           CHESWICK       815   350.191284\n",
       "1          EDGEWORTH       824  1030.743774\n",
       "2          SEWICKLEY       851   718.309570\n",
       "3  SEWICKLEY HEIGHTS       869  4738.989746\n",
       "4             HARMAR       915  4060.858643"
      ]
     },
     "execution_count": 8,
     "metadata": {},
     "output_type": "execute_result"
    }
   ],
   "source": [
    "municipalities = pd.read_csv(\"municipalities.csv\")[[\"NAME\", \"MUNICODE\", \"ACRES\"]]\n",
    "municipalities.head()"
   ]
  },
  {
   "cell_type": "markdown",
   "metadata": {},
   "source": [
    "Finally, we can combine the two datasets:"
   ]
  },
  {
   "cell_type": "code",
   "execution_count": 9,
   "metadata": {},
   "outputs": [
    {
     "data": {
      "text/html": [
       "<div>\n",
       "<style scoped>\n",
       "    .dataframe tbody tr th:only-of-type {\n",
       "        vertical-align: middle;\n",
       "    }\n",
       "\n",
       "    .dataframe tbody tr th {\n",
       "        vertical-align: top;\n",
       "    }\n",
       "\n",
       "    .dataframe thead th {\n",
       "        text-align: right;\n",
       "    }\n",
       "</style>\n",
       "<table border=\"1\" class=\"dataframe\">\n",
       "  <thead>\n",
       "    <tr style=\"text-align: right;\">\n",
       "      <th></th>\n",
       "      <th>NAME</th>\n",
       "      <th>MUNICODE</th>\n",
       "      <th>ACRES</th>\n",
       "      <th>N_TOWERS</th>\n",
       "    </tr>\n",
       "  </thead>\n",
       "  <tbody>\n",
       "    <tr>\n",
       "      <th>120</th>\n",
       "      <td>PENN HILLS</td>\n",
       "      <td>934</td>\n",
       "      <td>12455.728516</td>\n",
       "      <td>14</td>\n",
       "    </tr>\n",
       "    <tr>\n",
       "      <th>96</th>\n",
       "      <td>MOON</td>\n",
       "      <td>925</td>\n",
       "      <td>15352.370117</td>\n",
       "      <td>10</td>\n",
       "    </tr>\n",
       "    <tr>\n",
       "      <th>30</th>\n",
       "      <td>PLUM</td>\n",
       "      <td>880</td>\n",
       "      <td>18545.425781</td>\n",
       "      <td>10</td>\n",
       "    </tr>\n",
       "    <tr>\n",
       "      <th>38</th>\n",
       "      <td>ROSS</td>\n",
       "      <td>940</td>\n",
       "      <td>9257.419922</td>\n",
       "      <td>8</td>\n",
       "    </tr>\n",
       "    <tr>\n",
       "      <th>109</th>\n",
       "      <td>HAMPTON</td>\n",
       "      <td>914</td>\n",
       "      <td>10367.599609</td>\n",
       "      <td>6</td>\n",
       "    </tr>\n",
       "  </tbody>\n",
       "</table>\n",
       "</div>"
      ],
      "text/plain": [
       "           NAME  MUNICODE         ACRES  N_TOWERS\n",
       "120  PENN HILLS       934  12455.728516        14\n",
       "96         MOON       925  15352.370117        10\n",
       "30         PLUM       880  18545.425781        10\n",
       "38         ROSS       940   9257.419922         8\n",
       "109     HAMPTON       914  10367.599609         6"
      ]
     },
     "execution_count": 9,
     "metadata": {},
     "output_type": "execute_result"
    }
   ],
   "source": [
    "municipalities[\"N_TOWERS\"] = municipalities.MUNICODE.apply(lambda x: towers[x] if x in towers else 0)\n",
    "municipalities.sort_values('N_TOWERS', ascending=False).head()"
   ]
  },
  {
   "cell_type": "code",
   "execution_count": 10,
   "metadata": {},
   "outputs": [
    {
     "data": {
      "text/html": [
       "<div>\n",
       "<style scoped>\n",
       "    .dataframe tbody tr th:only-of-type {\n",
       "        vertical-align: middle;\n",
       "    }\n",
       "\n",
       "    .dataframe tbody tr th {\n",
       "        vertical-align: top;\n",
       "    }\n",
       "\n",
       "    .dataframe thead th {\n",
       "        text-align: right;\n",
       "    }\n",
       "</style>\n",
       "<table border=\"1\" class=\"dataframe\">\n",
       "  <thead>\n",
       "    <tr style=\"text-align: right;\">\n",
       "      <th></th>\n",
       "      <th>NAME</th>\n",
       "      <th>MUNICODE</th>\n",
       "      <th>ACRES</th>\n",
       "      <th>N_TOWERS</th>\n",
       "      <th>DENSITY</th>\n",
       "    </tr>\n",
       "  </thead>\n",
       "  <tbody>\n",
       "    <tr>\n",
       "      <th>23</th>\n",
       "      <td>MILLVALE</td>\n",
       "      <td>838</td>\n",
       "      <td>441.883026</td>\n",
       "      <td>2</td>\n",
       "      <td>0.004526</td>\n",
       "    </tr>\n",
       "    <tr>\n",
       "      <th>70</th>\n",
       "      <td>WEST MIFFLIN</td>\n",
       "      <td>870</td>\n",
       "      <td>1510.908081</td>\n",
       "      <td>6</td>\n",
       "      <td>0.003971</td>\n",
       "    </tr>\n",
       "    <tr>\n",
       "      <th>42</th>\n",
       "      <td>ETNA</td>\n",
       "      <td>827</td>\n",
       "      <td>505.648651</td>\n",
       "      <td>2</td>\n",
       "      <td>0.003955</td>\n",
       "    </tr>\n",
       "    <tr>\n",
       "      <th>18</th>\n",
       "      <td>TARENTUM</td>\n",
       "      <td>855</td>\n",
       "      <td>903.488770</td>\n",
       "      <td>3</td>\n",
       "      <td>0.003320</td>\n",
       "    </tr>\n",
       "    <tr>\n",
       "      <th>31</th>\n",
       "      <td>BRADDOCK HILLS</td>\n",
       "      <td>872</td>\n",
       "      <td>603.870605</td>\n",
       "      <td>2</td>\n",
       "      <td>0.003312</td>\n",
       "    </tr>\n",
       "  </tbody>\n",
       "</table>\n",
       "</div>"
      ],
      "text/plain": [
       "              NAME  MUNICODE        ACRES  N_TOWERS   DENSITY\n",
       "23        MILLVALE       838   441.883026         2  0.004526\n",
       "70    WEST MIFFLIN       870  1510.908081         6  0.003971\n",
       "42            ETNA       827   505.648651         2  0.003955\n",
       "18        TARENTUM       855   903.488770         3  0.003320\n",
       "31  BRADDOCK HILLS       872   603.870605         2  0.003312"
      ]
     },
     "execution_count": 10,
     "metadata": {},
     "output_type": "execute_result"
    }
   ],
   "source": [
    "municipalities[\"DENSITY\"] = municipalities.N_TOWERS/municipalities.ACRES\n",
    "municipalities.sort_values('DENSITY', ascending=False).head()"
   ]
  },
  {
   "cell_type": "code",
   "execution_count": 11,
   "metadata": {},
   "outputs": [
    {
     "data": {
      "text/plain": [
       "<matplotlib.axes._subplots.AxesSubplot at 0x7f36d66f2490>"
      ]
     },
     "execution_count": 11,
     "metadata": {},
     "output_type": "execute_result"
    },
    {
     "data": {
      "image/png": "[encoded data removed]",
      "text/plain": [
       "<Figure size 1800x720 with 1 Axes>"
      ]
     },
     "metadata": {
      "needs_background": "light"
     },
     "output_type": "display_data"
    }
   ],
   "source": [
    "municipalities.sort_values('DENSITY', ascending=False)['DENSITY'].plot.bar(title='Number of Towers per Acre', figsize=(25,10))"
   ]
  },
  {
   "cell_type": "markdown",
   "metadata": {},
   "source": [
    "#### Caroline Scalf - Playgrounds by Neighborhood\n",
    "Playgrounds are an important aspect of healthy development for children. They promote exercise and encourage children to have fun. To determine the best neighborhood in this regard, I looked at the amount of parks per neighborhood. I figured that, since playgrounds are so important, the best neighborhood would have the most playgrounds."
   ]
  },
  {
   "cell_type": "markdown",
   "metadata": {},
   "source": [
    "To start, I found a data set from WPRDC that details each playground and which neighborhood it came from."
   ]
  },
  {
   "cell_type": "code",
   "execution_count": 2,
   "metadata": {},
   "outputs": [
    {
     "data": {
      "text/html": [
       "<div>\n",
       "<style scoped>\n",
       "    .dataframe tbody tr th:only-of-type {\n",
       "        vertical-align: middle;\n",
       "    }\n",
       "\n",
       "    .dataframe tbody tr th {\n",
       "        vertical-align: top;\n",
       "    }\n",
       "\n",
       "    .dataframe thead th {\n",
       "        text-align: right;\n",
       "    }\n",
       "</style>\n",
       "<table border=\"1\" class=\"dataframe\">\n",
       "  <thead>\n",
       "    <tr style=\"text-align: right;\">\n",
       "      <th></th>\n",
       "      <th>name</th>\n",
       "      <th>neighborhood</th>\n",
       "    </tr>\n",
       "  </thead>\n",
       "  <tbody>\n",
       "    <tr>\n",
       "      <th>0</th>\n",
       "      <td>Able Long Playground</td>\n",
       "      <td>Beechview</td>\n",
       "    </tr>\n",
       "    <tr>\n",
       "      <th>1</th>\n",
       "      <td>Albert Graham Playground</td>\n",
       "      <td>Crawford-Roberts</td>\n",
       "    </tr>\n",
       "    <tr>\n",
       "      <th>2</th>\n",
       "      <td>Alpine Playground</td>\n",
       "      <td>Central Northside</td>\n",
       "    </tr>\n",
       "    <tr>\n",
       "      <th>3</th>\n",
       "      <td>Alton Playground</td>\n",
       "      <td>Beechview</td>\n",
       "    </tr>\n",
       "    <tr>\n",
       "      <th>4</th>\n",
       "      <td>Ammon Playground</td>\n",
       "      <td>Bedford Dwellings</td>\n",
       "    </tr>\n",
       "    <tr>\n",
       "      <th>5</th>\n",
       "      <td>Arlington Playground</td>\n",
       "      <td>South Side Slopes</td>\n",
       "    </tr>\n",
       "    <tr>\n",
       "      <th>6</th>\n",
       "      <td>Armstrong Playground</td>\n",
       "      <td>South Side Flats</td>\n",
       "    </tr>\n",
       "    <tr>\n",
       "      <th>7</th>\n",
       "      <td>Arsenal Playground</td>\n",
       "      <td>Lower Lawrenceville</td>\n",
       "    </tr>\n",
       "    <tr>\n",
       "      <th>8</th>\n",
       "      <td>August WIlson Playground</td>\n",
       "      <td>Crawford-Roberts</td>\n",
       "    </tr>\n",
       "    <tr>\n",
       "      <th>9</th>\n",
       "      <td>Banksville Playground</td>\n",
       "      <td>Banksville</td>\n",
       "    </tr>\n",
       "    <tr>\n",
       "      <th>10</th>\n",
       "      <td>Baxter Playground</td>\n",
       "      <td>Homewood North</td>\n",
       "    </tr>\n",
       "    <tr>\n",
       "      <th>11</th>\n",
       "      <td>Bon Air Playground</td>\n",
       "      <td>Bon Air</td>\n",
       "    </tr>\n",
       "    <tr>\n",
       "      <th>12</th>\n",
       "      <td>Boundary Street Playground</td>\n",
       "      <td>Central Oakland</td>\n",
       "    </tr>\n",
       "    <tr>\n",
       "      <th>13</th>\n",
       "      <td>Brighton Heights Playground</td>\n",
       "      <td>Brighton Heights</td>\n",
       "    </tr>\n",
       "    <tr>\n",
       "      <th>14</th>\n",
       "      <td>Brookline Playground</td>\n",
       "      <td>Brookline</td>\n",
       "    </tr>\n",
       "    <tr>\n",
       "      <th>15</th>\n",
       "      <td>Bud Hammer Playground</td>\n",
       "      <td>Hazelwood</td>\n",
       "    </tr>\n",
       "    <tr>\n",
       "      <th>16</th>\n",
       "      <td>Burgwin Playground</td>\n",
       "      <td>Hazelwood</td>\n",
       "    </tr>\n",
       "    <tr>\n",
       "      <th>17</th>\n",
       "      <td>Camp David Lawrence Playground</td>\n",
       "      <td>Squirrel Hill South</td>\n",
       "    </tr>\n",
       "    <tr>\n",
       "      <th>18</th>\n",
       "      <td>Catalono Playground</td>\n",
       "      <td>Spring Garden</td>\n",
       "    </tr>\n",
       "    <tr>\n",
       "      <th>19</th>\n",
       "      <td>Chadwick Playground</td>\n",
       "      <td>Lincoln-Lemington-Belmar</td>\n",
       "    </tr>\n",
       "  </tbody>\n",
       "</table>\n",
       "</div>"
      ],
      "text/plain": [
       "                              name              neighborhood\n",
       "0             Able Long Playground                 Beechview\n",
       "1         Albert Graham Playground          Crawford-Roberts\n",
       "2                Alpine Playground         Central Northside\n",
       "3                 Alton Playground                 Beechview\n",
       "4                 Ammon Playground         Bedford Dwellings\n",
       "5             Arlington Playground         South Side Slopes\n",
       "6             Armstrong Playground          South Side Flats\n",
       "7               Arsenal Playground       Lower Lawrenceville\n",
       "8         August WIlson Playground          Crawford-Roberts\n",
       "9            Banksville Playground                Banksville\n",
       "10               Baxter Playground            Homewood North\n",
       "11              Bon Air Playground                   Bon Air\n",
       "12      Boundary Street Playground           Central Oakland\n",
       "13     Brighton Heights Playground          Brighton Heights\n",
       "14            Brookline Playground                 Brookline\n",
       "15           Bud Hammer Playground                 Hazelwood\n",
       "16              Burgwin Playground                 Hazelwood\n",
       "17  Camp David Lawrence Playground       Squirrel Hill South\n",
       "18             Catalono Playground             Spring Garden\n",
       "19             Chadwick Playground  Lincoln-Lemington-Belmar"
      ]
     },
     "execution_count": 2,
     "metadata": {},
     "output_type": "execute_result"
    }
   ],
   "source": [
    "import pandas as pd\n",
    "playground = pd.read_csv('playgrounds.csv')[[\"name\",\"neighborhood\"]]\n",
    "playground.head(20)"
   ]
  },
  {
   "cell_type": "markdown",
   "metadata": {},
   "source": [
    "First, I loaded in the data set for the playground information. The first 20 entries in the CSV file can be seen here. I sorted it just by name of the playground and neighborhood name, since that's what's important."
   ]
  },
  {
   "cell_type": "code",
   "execution_count": 3,
   "metadata": {},
   "outputs": [
    {
     "data": {
      "text/plain": [
       "array(['Beechview', 'Crawford-Roberts', 'Central Northside',\n",
       "       'Bedford Dwellings', 'South Side Slopes', 'South Side Flats',\n",
       "       'Lower Lawrenceville', 'Banksville', 'Homewood North', 'Bon Air',\n",
       "       'Central Oakland', 'Brighton Heights', 'Brookline', 'Hazelwood',\n",
       "       'Squirrel Hill South', 'Spring Garden', 'Lincoln-Lemington-Belmar',\n",
       "       'Windgap', 'Troy Hill', 'Westwood', 'Perry South', 'Homewood West',\n",
       "       'Allegheny Center', 'Strip District', 'Stanton Heights',\n",
       "       'Crafton Heights', 'West Oakland', 'East Carnegie',\n",
       "       'Duquesne Heights', 'East Liberty', 'Esplen', 'Fairywood',\n",
       "       'Highland Park', 'Upper Lawrenceville', 'Fineview',\n",
       "       'Regent Square', 'Garfield', 'Greenfield', 'South Oakland',\n",
       "       'Allentown', 'Hays', 'Elliott', 'Morningside', 'Terrace Village',\n",
       "       'Larimer', 'Carrick', 'Central Lawrenceville', 'Lincoln Place',\n",
       "       'Manchester', 'Marshall-Shadeland', 'Sheraden', 'Beltzhoover',\n",
       "       'Shadyside', 'Mount Washington', 'Oakwood', 'Bloomfield',\n",
       "       'Perry North', 'Upper Hill', 'New Homestead',\n",
       "       'Spring Hill-City View', 'Swisshelm Park', 'Bluff', 'Middle Hill',\n",
       "       'West End', 'Polish Hill', 'Point Breeze North',\n",
       "       'Squirrel Hill North', 'East Allegheny'], dtype=object)"
      ]
     },
     "execution_count": 3,
     "metadata": {},
     "output_type": "execute_result"
    }
   ],
   "source": [
    "import pandas as pd\n",
    "playground = pd.read_csv('playgrounds.csv')\n",
    "playground[\"neighborhood\"].unique()"
   ]
  },
  {
   "cell_type": "markdown",
   "metadata": {},
   "source": [
    "This shows me the amount of unique neighborhoods I'll be working with. This is important, since I need to filter out duplicates of neighborhoods."
   ]
  },
  {
   "cell_type": "code",
   "execution_count": 6,
   "metadata": {},
   "outputs": [
    {
     "data": {
      "text/plain": [
       "Squirrel Hill South    8\n",
       "Beechview              5\n",
       "South Side Slopes      5\n",
       "Highland Park          4\n",
       "Sheraden               4\n",
       "                      ..\n",
       "Esplen                 1\n",
       "Fairywood              1\n",
       "Regent Square          1\n",
       "Allentown              1\n",
       "East Allegheny         1\n",
       "Name: neighborhood, Length: 68, dtype: int64"
      ]
     },
     "execution_count": 6,
     "metadata": {},
     "output_type": "execute_result"
    }
   ],
   "source": [
    "playground[\"neighborhood\"].value_counts()"
   ]
  },
  {
   "cell_type": "markdown",
   "metadata": {},
   "source": [
    "Using the function value_counts(), I found the amount of times that each neighborhood was listed next to a park. This is extremely helpful, as it directly shows which neighborhoods have the most and least parks.\n",
    "Now, we'll put this information into a bar graph!"
   ]
  },
  {
   "cell_type": "code",
   "execution_count": 9,
   "metadata": {},
   "outputs": [
    {
     "data": {
      "text/plain": [
       "<bound method PlotAccessor.bar of <pandas.plotting._core.PlotAccessor object at 0x7f851f35f730>>"
      ]
     },
     "execution_count": 9,
     "metadata": {},
     "output_type": "execute_result"
    }
   ],
   "source": [
    "import nu\n",
    "play_graph = playground[\"neighborhood\"].value_counts()\n",
    "play_graph.plot.bar"
   ]
  },
  {
   "cell_type": "code",
   "execution_count": null,
   "metadata": {},
   "outputs": [],
   "source": []
  },
  {
   "cell_type": "code",
   "execution_count": 7,
   "metadata": {},
   "outputs": [
    {
     "data": {
      "text/plain": [
       "<bound method PlotAccessor.bar of <pandas.plotting._core.PlotAccessor object at 0x7f85196c33a0>>"
      ]
     },
     "execution_count": 7,
     "metadata": {},
     "output_type": "execute_result"
    }
   ],
   "source": []
  },
  {
   "cell_type": "markdown",
   "metadata": {},
   "source": [
    "#### Conclusion\n",
    "The thing that unites all of our metrics is convenience and safety. Playgrounds allow kids to exercise, which promotes good health. Having a lot of cell phone towers allows for people to call for help if necessary. Finally, having fewer police reports typically indicates a safer area. With all of these metrics in mind...\n",
    "\n",
    "We've determined that __ is the best neighborhood."
   ]
  }
 ],
 "metadata": {
  "kernelspec": {
   "display_name": "Python 3",
   "language": "python",
   "name": "python3"
  },
  "language_info": {
   "codemirror_mode": {
    "name": "ipython",
    "version": 3
   },
   "file_extension": ".py",
   "mimetype": "text/x-python",
   "name": "python",
   "nbconvert_exporter": "python",
   "pygments_lexer": "ipython3",
   "version": "3.8.3"
  }
 },
 "nbformat": 4,
 "nbformat_minor": 4
}
